{
 "cells": [
  {
   "cell_type": "code",
   "execution_count": 1,
   "metadata": {},
   "outputs": [
    {
     "data": {
      "text/plain": [
       "<Figure size 640x480 with 1 Axes>"
      ]
     },
     "metadata": {},
     "output_type": "display_data"
    },
    {
     "data": {
      "text/plain": [
       "array([[-0.41741115, -0.36957143],\n",
       "       [-0.37631786,  0.07786746],\n",
       "       [ 0.07392414,  0.52646977],\n",
       "       [ 0.26441789,  0.31868874],\n",
       "       [ 0.2556013 , -0.57977707],\n",
       "       [ 0.00659655,  0.53988242],\n",
       "       [ 0.52693623,  0.27791059],\n",
       "       [ 0.1657523 ,  0.10771018],\n",
       "       [-0.4176141 , -0.33818821],\n",
       "       [ 0.06810028, -0.2071218 ],\n",
       "       [-0.30772228,  0.29305008],\n",
       "       [-0.42939944,  0.16804891],\n",
       "       [ 0.21432637, -0.08926831],\n",
       "       [-0.20413674,  0.01382241],\n",
       "       [-0.26381916,  0.26646066],\n",
       "       [-0.19116721,  0.34331225],\n",
       "       [ 0.14710706,  0.04363769],\n",
       "       [ 0.11821968, -0.51246996],\n",
       "       [-0.31591803, -0.13712719],\n",
       "       [-0.15222404,  0.28029657],\n",
       "       [ 0.08373353,  0.29613063],\n",
       "       [-0.95781658,  0.66164877],\n",
       "       [-0.18900138,  0.3227543 ],\n",
       "       [ 0.04390397, -0.40603114],\n",
       "       [-0.49495871,  0.2153129 ],\n",
       "       [-0.15190056, -0.27774042],\n",
       "       [-0.01961995, -0.10697317],\n",
       "       [ 0.0651567 ,  0.10010422],\n",
       "       [-0.18590672, -0.2415704 ],\n",
       "       [ 0.45363036, -0.46643756]])"
      ]
     },
     "execution_count": 1,
     "metadata": {},
     "output_type": "execute_result"
    }
   ],
   "source": [
    "from Stereo import * \n",
    "\n",
    "s = Stereo(n = 30)\n",
    "\n",
    "a, b, c, r, p, y = 0,0,0,0,0,0\n",
    "s.transformCamera(x=a, y=b, z=c, roll=r, pitch=p, yaw=y)"
   ]
  },
  {
   "cell_type": "code",
   "execution_count": 2,
   "metadata": {},
   "outputs": [
    {
     "data": {
      "application/vnd.jupyter.widget-view+json": {
       "model_id": "9473d1d1e6784417bb54d66f5645b188",
       "version_major": 2,
       "version_minor": 0
      },
      "text/plain": [
       "A Jupyter Widget"
      ]
     },
     "metadata": {},
     "output_type": "display_data"
    },
    {
     "data": {
      "text/plain": [
       "<function ipywidgets.widgets.interaction._InteractFactory.__call__.<locals>.<lambda>>"
      ]
     },
     "execution_count": 2,
     "metadata": {},
     "output_type": "execute_result"
    }
   ],
   "source": [
    "from ipywidgets import interact, fixed\n",
    "interact(s.transformCamera, x=(-1,1,0.01), y=(-1,1,0.01), z=(-1,1,0.01), roll=(-1,1,0.01), pitch=(-1,1,0.01), yaw=(-1,1,0.01)) "
   ]
  },
  {
   "cell_type": "code",
   "execution_count": 3,
   "metadata": {},
   "outputs": [],
   "source": [
    "from helpers import *\n",
    "import numpy as np"
   ]
  },
  {
   "cell_type": "code",
   "execution_count": 4,
   "metadata": {},
   "outputs": [],
   "source": [
    "def printComputeScore(pts1, pts2, n_corr, epsilon, epipole_t, theta=0, phi=0, r=0, p=0, y=0, mode=None):\n",
    "    t = np.array([theta, phi, r, p, y])\n",
    "    score, mismatches, corr_indices = computeScore(t, pts1, pts2, n_corr, epsilon, epipole_t, mode)\n",
    "    return score"
   ]
  },
  {
   "cell_type": "code",
   "execution_count": 5,
   "metadata": {},
   "outputs": [],
   "source": [
    "# Set up two views of 30 points\n",
    "pts1 = s.transformCamera(False, 0,0,0,0,0,0)\n",
    "pts2 = s.transformCamera(False, 0.6,0,0,0,0,-0.3)"
   ]
  },
  {
   "cell_type": "code",
   "execution_count": 6,
   "metadata": {},
   "outputs": [
    {
     "data": {
      "application/vnd.jupyter.widget-view+json": {
       "model_id": "5b91d389a12646daaae7a3a4852a51d3",
       "version_major": 2,
       "version_minor": 0
      },
      "text/plain": [
       "A Jupyter Widget"
      ]
     },
     "metadata": {},
     "output_type": "display_data"
    },
    {
     "data": {
      "text/plain": [
       "<function __main__.printComputeScore>"
      ]
     },
     "execution_count": 6,
     "metadata": {},
     "output_type": "execute_result"
    }
   ],
   "source": [
    "from math import pi\n",
    "interact(printComputeScore, pts1=fixed(pts1), pts2=fixed(pts2), \n",
    "         n_corr=fixed(30), epsilon=fixed(0.01), epipole_t=fixed(0.1), \n",
    "         theta=(-1,1,0.01), phi=(-pi/2,pi/2,0.01), r=(-1,1,0.01), p=(-1,1,0.01), y=(-1,1,0.01),\n",
    "         mode = \"dist\"\n",
    "        )"
   ]
  },
  {
   "cell_type": "code",
   "execution_count": 7,
   "metadata": {},
   "outputs": [
    {
     "data": {
      "text/plain": [
       "(0.6, 0.0, 1.5707963267948966)"
      ]
     },
     "execution_count": 7,
     "metadata": {},
     "output_type": "execute_result"
    }
   ],
   "source": [
    "cartesianToSpherical(0.6, 0, 0)"
   ]
  },
  {
   "cell_type": "code",
   "execution_count": 8,
   "metadata": {},
   "outputs": [
    {
     "data": {
      "text/plain": [
       "(0.6, 0.0, 3.6739403974420595e-17)"
      ]
     },
     "execution_count": 8,
     "metadata": {},
     "output_type": "execute_result"
    }
   ],
   "source": [
    "sphericalToCartesian(0.6, 0.0, 1.5707963267948966)"
   ]
  },
  {
   "cell_type": "code",
   "execution_count": 9,
   "metadata": {},
   "outputs": [],
   "source": [
    "# Try varying each dimension\n",
    "\n",
    "def varyE(pts1, pts2, n_corr, epsilon, epipole_t, theta=0, phi=0, r=0, p=0, y=0, mode = None):\n",
    "    outth = []\n",
    "    outph = []\n",
    "    outr  = []\n",
    "    outp  = []\n",
    "    outy  = []\n",
    "\n",
    "    idx = []\n",
    "    for i in range(-314, 314):\n",
    "        x = i/100\n",
    "\n",
    "        idx.append(x)\n",
    "\n",
    "        outth.append(printComputeScore(pts1, pts2, n_corr, epsilon, epipole_t, x, phi, r, p, y,    mode))\n",
    "        outph.append(printComputeScore(pts1, pts2, n_corr, epsilon, epipole_t, theta, x, r, p, y,  mode))\n",
    "        outr.append(printComputeScore(pts1, pts2, n_corr, epsilon, epipole_t, theta, phi, x, p, y, mode))\n",
    "        outp.append(printComputeScore(pts1, pts2, n_corr, epsilon, epipole_t, theta, phi, r, x, y, mode))\n",
    "        outy.append(printComputeScore(pts1, pts2, n_corr, epsilon, epipole_t, theta, phi, r, p, x, mode))\n",
    "    \n",
    "    y_upper = n_corr if mode is None else n_corr * epsilon\n",
    "    \n",
    "    fig = plt.figure(figsize=(18,8))\n",
    "    plt.subplot(2, 3, 1, ylim = (0, y_upper))\n",
    "    plt.plot(idx,outth)\n",
    "    plt.subplot(2, 3, 2, ylim = (0, y_upper))\n",
    "    plt.plot(idx,outph)\n",
    "    plt.subplot(2, 3, 4, ylim = (0, y_upper))\n",
    "    plt.plot(idx,outr)\n",
    "    plt.subplot(2, 3, 5, ylim = (0, y_upper))\n",
    "    plt.plot(idx,outp)\n",
    "    plt.subplot(2, 3, 6, ylim = (0, y_upper))\n",
    "    plt.plot(idx,outy)\n",
    "    plt.show()"
   ]
  },
  {
   "cell_type": "code",
   "execution_count": 10,
   "metadata": {
    "scrolled": false
   },
   "outputs": [
    {
     "data": {
      "application/vnd.jupyter.widget-view+json": {
       "model_id": "e87f82b2daa5485b811189049be132c1",
       "version_major": 2,
       "version_minor": 0
      },
      "text/plain": [
       "A Jupyter Widget"
      ]
     },
     "metadata": {},
     "output_type": "display_data"
    },
    {
     "data": {
      "text/plain": [
       "<function __main__.varyE>"
      ]
     },
     "execution_count": 10,
     "metadata": {},
     "output_type": "execute_result"
    }
   ],
   "source": [
    "interact(varyE, pts1=fixed(pts1), pts2=fixed(pts2), \n",
    "         n_corr=fixed(30), epsilon=(0.0,0.5,0.01), epipole_t=fixed(0.1), \n",
    "         theta=(-pi,pi,0.01), phi=(-pi,pi,0.01), r=(-pi,pi,0.01), p=(-pi,pi,0.01), y=(-pi,pi,0.01), mode = [\"dists\", None])"
   ]
  },
  {
   "cell_type": "code",
   "execution_count": null,
   "metadata": {
    "collapsed": true
   },
   "outputs": [],
   "source": []
  }
 ],
 "metadata": {
  "kernelspec": {
   "display_name": "Python [conda env:Anaconda3]",
   "language": "python",
   "name": "conda-env-Anaconda3-py"
  },
  "language_info": {
   "codemirror_mode": {
    "name": "ipython",
    "version": 3
   },
   "file_extension": ".py",
   "mimetype": "text/x-python",
   "name": "python",
   "nbconvert_exporter": "python",
   "pygments_lexer": "ipython3",
   "version": "3.6.3"
  }
 },
 "nbformat": 4,
 "nbformat_minor": 2
}
